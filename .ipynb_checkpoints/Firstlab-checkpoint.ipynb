{
 "cells": [
  {
   "cell_type": "code",
   "execution_count": 1,
   "id": "6675cd9a",
   "metadata": {},
   "outputs": [
    {
     "name": "stdout",
     "output_type": "stream",
     "text": [
      "Krishna\n",
      "<class 'str'>\n"
     ]
    }
   ],
   "source": [
    "a='Krishna'\n",
    "print(a)\n",
    "print(type(a))"
   ]
  },
  {
   "cell_type": "code",
   "execution_count": 1,
   "id": "825a550d",
   "metadata": {},
   "outputs": [
    {
     "name": "stdout",
     "output_type": "stream",
     "text": [
      "{'brand': 'Ford', 'model': 'Mustang', 'year': 1964}\n"
     ]
    }
   ],
   "source": [
    "thisdict = {\n",
    "  \"brand\": \"Ford\",\n",
    "  \"model\": \"Mustang\",\n",
    "  \"year\": 1964\n",
    "}\n",
    "print(thisdict)"
   ]
  },
  {
   "cell_type": "code",
   "execution_count": 6,
   "id": "ae984437",
   "metadata": {},
   "outputs": [
    {
     "name": "stdout",
     "output_type": "stream",
     "text": [
      "3\n",
      "<class 'int'>\n",
      "2.1\n"
     ]
    }
   ],
   "source": [
    "myint=3\n",
    "print (myint)\n",
    "print (type(myint))\n",
    "myfloat=2.1\n",
    "print(myfloat)"
   ]
  },
  {
   "cell_type": "code",
   "execution_count": 4,
   "id": "5a19d245",
   "metadata": {},
   "outputs": [
    {
     "name": "stdout",
     "output_type": "stream",
     "text": [
      "String: hello\n",
      "Float: 10.000000\n",
      "Integer: 20\n"
     ]
    }
   ],
   "source": [
    "# change this code\n",
    "mystring = 'hello'\n",
    "myfloat = 10.0\n",
    "myint = 20\n",
    "\n",
    "# testing code\n",
    "if mystring == \"hello\":\n",
    "    print(\"String: %s\" % mystring)\n",
    "if isinstance(myfloat, float) and myfloat == 10.0:\n",
    "    print(\"Float: %f\" % myfloat)\n",
    "if isinstance(myint, int) and myint == 20:\n",
    "    print(\"Integer: %d\" % myint)"
   ]
  },
  {
   "cell_type": "code",
   "execution_count": 6,
   "id": "9280f998",
   "metadata": {},
   "outputs": [
    {
     "name": "stdout",
     "output_type": "stream",
     "text": [
      "Ford\n",
      "2000\n",
      "Length of the dictionary 3\n",
      "Dictionary Data type:  <class 'dict'>\n",
      "Dictionary Elements Data Type :  <class 'str'>  Year data type : <class 'int'>\n"
     ]
    }
   ],
   "source": [
    "thisdict = {\n",
    "  \"brand\": \"Ford\",\n",
    "  \"model\": \"Mustang\",\n",
    "  \"year\": 1964,\n",
    "  \"year\":2000\n",
    "}\n",
    "print(thisdict[\"brand\"])\n",
    "print(thisdict[\"year\"])\n",
    "print(\"Length of the dictionary\", len(thisdict))\n",
    "print(\"Dictionary Data type: \", type(thisdict))\n",
    "print(\"Dictionary Elements Data Type : \", type(thisdict[\"brand\"]), \" Year data type :\", type(thisdict[\"year\"]))"
   ]
  },
  {
   "cell_type": "code",
   "execution_count": 11,
   "id": "c800454a",
   "metadata": {},
   "outputs": [
    {
     "name": "stdout",
     "output_type": "stream",
     "text": [
      "<class 'bool'>\n",
      "1\n",
      "0\n",
      "1\n"
     ]
    }
   ],
   "source": [
    "bool_true = True\n",
    "bool_fals = False\n",
    "print (type(bool_true))\n",
    "bool_add = bool_true + bool_fals\n",
    "print (bool_add)\n",
    "bool_mult = bool_true * bool_fals\n",
    "print (bool_mult)\n",
    "print (True + False)"
   ]
  },
  {
   "cell_type": "code",
   "execution_count": 15,
   "id": "aa6e39b4",
   "metadata": {},
   "outputs": [
    {
     "name": "stdout",
     "output_type": "stream",
     "text": [
      "Integer value  10.12\n",
      "Float Value (Converted) to Integer 10\n",
      "Float Value (Converted) 10.12\n"
     ]
    }
   ],
   "source": [
    "float_var = 10.12\n",
    "val_conv_float_to_int = int(float_var)\n",
    "val_conv_int_to_float = float(float_var)\n",
    "print(\"Integer value \", float_var)\n",
    "print(\"Float Value (Converted) to Integer\", val_conv_float_to_int)\n",
    "print(\"Float Value (Converted)\", val_conv_int_to_float)"
   ]
  },
  {
   "cell_type": "code",
   "execution_count": 18,
   "id": "b97f66d4",
   "metadata": {},
   "outputs": [
    {
     "name": "stdout",
     "output_type": "stream",
     "text": [
      "Modulus (High Val and Low val)  0\n",
      "Modulus (Low val and High val)  10\n",
      "Division  0.5\n",
      "Multiplication  200\n",
      "Substraction  -10\n",
      "Addition  30\n"
     ]
    }
   ],
   "source": [
    "val1 = 10\n",
    "val2 = 20\n",
    "print(\"Modulus (High Val and Low val) \", val2%val1)\n",
    "print(\"Modulus (Low val and High val) \", val1%val2)\n",
    "print(\"Division \", val1/val2)\n",
    "print(\"Multiplication \", val1*val2)\n",
    "print(\"Substraction \", val1 - val2)\n",
    "print(\"Addition \", val1 + val2)"
   ]
  },
  {
   "cell_type": "code",
   "execution_count": null,
   "id": "42875cf1",
   "metadata": {},
   "outputs": [],
   "source": []
  }
 ],
 "metadata": {
  "kernelspec": {
   "display_name": "Python 3 (ipykernel)",
   "language": "python",
   "name": "python3"
  },
  "language_info": {
   "codemirror_mode": {
    "name": "ipython",
    "version": 3
   },
   "file_extension": ".py",
   "mimetype": "text/x-python",
   "name": "python",
   "nbconvert_exporter": "python",
   "pygments_lexer": "ipython3",
   "version": "3.9.7"
  }
 },
 "nbformat": 4,
 "nbformat_minor": 5
}
