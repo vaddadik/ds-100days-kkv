{
 "cells": [
  {
   "cell_type": "code",
   "execution_count": 1,
   "id": "b0e3db4e",
   "metadata": {},
   "outputs": [
    {
     "name": "stdout",
     "output_type": "stream",
     "text": [
      "Krishna\n",
      "<class 'str'>\n"
     ]
    }
   ],
   "source": [
    "a='Krishna'\n",
    "print(a)\n",
    "print(type(a))"
   ]
  },
  {
   "cell_type": "code",
   "execution_count": 6,
   "id": "91764449",
   "metadata": {},
   "outputs": [
    {
     "name": "stdout",
     "output_type": "stream",
     "text": [
      "3\n",
      "<class 'int'>\n",
      "2.1\n"
     ]
    }
   ],
   "source": [
    "myint=3\n",
    "print (myint)\n",
    "print (type(myint))\n",
    "myfloat=2.1\n",
    "print(myfloat)"
   ]
  },
  {
   "cell_type": "code",
   "execution_count": 4,
   "id": "2113a3c8",
   "metadata": {},
   "outputs": [
    {
     "name": "stdout",
     "output_type": "stream",
     "text": [
      "String: hello\n",
      "Float: 10.000000\n",
      "Integer: 20\n"
     ]
    }
   ],
   "source": [
    "# change this code\n",
    "mystring = 'hello'\n",
    "myfloat = 10.0\n",
    "myint = 20\n",
    "\n",
    "# testing code\n",
    "if mystring == \"hello\":\n",
    "    print(\"String: %s\" % mystring)\n",
    "if isinstance(myfloat, float) and myfloat == 10.0:\n",
    "    print(\"Float: %f\" % myfloat)\n",
    "if isinstance(myint, int) and myint == 20:\n",
    "    print(\"Integer: %d\" % myint)"
   ]
  }
 ],
 "metadata": {
  "kernelspec": {
   "display_name": "Python 3 (ipykernel)",
   "language": "python",
   "name": "python3"
  },
  "language_info": {
   "codemirror_mode": {
    "name": "ipython",
    "version": 3
   },
   "file_extension": ".py",
   "mimetype": "text/x-python",
   "name": "python",
   "nbconvert_exporter": "python",
   "pygments_lexer": "ipython3",
   "version": "3.9.7"
  }
 },
 "nbformat": 4,
 "nbformat_minor": 5
}
